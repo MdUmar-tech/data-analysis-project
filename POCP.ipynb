{
 "cells": [
  {
   "cell_type": "code",
   "execution_count": 1,
   "id": "7d644702",
   "metadata": {},
   "outputs": [],
   "source": [
    "#!/usr/bin/python3\n",
    "import re\n",
    "import subprocess\n",
    "import os\n",
    "os.getcwd()\n",
    "os.chdir(\"data\")\n"
   ]
  },
  {
   "cell_type": "code",
   "execution_count": 2,
   "id": "92dff632",
   "metadata": {},
   "outputs": [
    {
     "data": {
      "text/plain": [
       "0"
      ]
     },
     "execution_count": 2,
     "metadata": {},
     "output_type": "execute_result"
    }
   ],
   "source": [
    "# Run BLASTP\n",
    "subprocess.call(['makeblastdb', '-in', 'Rossellomorea_vietnamemsis_RAR_WA_32.faa', '-dbtype', 'prot', '-parse_seqids', '-out', 'Rossellomorea_vietnamemsis_RAR_WA_32'], stdout=subprocess.PIPE)\n"
   ]
  },
  {
   "cell_type": "code",
   "execution_count": 3,
   "id": "5d96b543",
   "metadata": {},
   "outputs": [
    {
     "name": "stderr",
     "output_type": "stream",
     "text": [
      "Warning: [blastp] Examining 5 or more matches is recommended\n"
     ]
    },
    {
     "data": {
      "text/plain": [
       "0"
      ]
     },
     "execution_count": 3,
     "metadata": {},
     "output_type": "execute_result"
    }
   ],
   "source": [
    "subprocess.call([\"blastp\", \"-query\", 'MCCB_382.faa', \"-subject\", 'Rossellomorea_vietnamemsis_RAR_WA_32.faa', \"-out\", \"MCCB_382_vs_Rossellomorea_vietnamemsis_RAR_WA_32.tab\", \"-evalue\", \"1e-5\", \"-outfmt\", \"6 std qlen\",'-max_target_seqs', '1'])\n",
    "\n"
   ]
  },
  {
   "cell_type": "code",
   "execution_count": 4,
   "id": "974ebea7",
   "metadata": {},
   "outputs": [
    {
     "name": "stdout",
     "output_type": "stream",
     "text": [
      "                  0               1       2    3   4   5   6    7   8    9   \\\n",
      "0     KBBLJFAO_00001  CNFHIFKK_04266  96.732  153   5   0   1  153   1  153   \n",
      "1     KBBLJFAO_00002  CNFHIFKK_04265  92.857  182  13   0   1  182   1  182   \n",
      "2     KBBLJFAO_00003  CNFHIFKK_04264  96.389  360  13   0   1  360   1  360   \n",
      "3     KBBLJFAO_00004  CNFHIFKK_04263  99.632  815   3   0   1  815   1  815   \n",
      "4     KBBLJFAO_00005  CNFHIFKK_04262  99.563  458   2   0   1  458   1  458   \n",
      "...              ...             ...     ...  ...  ..  ..  ..  ...  ..  ...   \n",
      "4179  KBBLJFAO_04806  CNFHIFKK_04360  99.317  293   2   0   1  293   1  293   \n",
      "4180  KBBLJFAO_04807  CNFHIFKK_04361  86.918  451  59   0   1  451   1  451   \n",
      "4181  KBBLJFAO_04808  CNFHIFKK_04362  99.795  487   1   0   1  487   1  487   \n",
      "4182  KBBLJFAO_04809  CNFHIFKK_04363  86.129  310  43   0   1  310   1  310   \n",
      "4183  KBBLJFAO_04810  CNFHIFKK_04364  93.671  158  10   0   1  158   1  158   \n",
      "\n",
      "                 10      11   12  \n",
      "0     7.300000e-108   301.0  153  \n",
      "1     6.550000e-127   351.0  182  \n",
      "2      0.000000e+00   708.0  360  \n",
      "3      0.000000e+00  1639.0  815  \n",
      "4      0.000000e+00   934.0  458  \n",
      "...             ...     ...  ...  \n",
      "4179   0.000000e+00   586.0  293  \n",
      "4180   0.000000e+00   766.0  451  \n",
      "4181   0.000000e+00   988.0  487  \n",
      "4182   0.000000e+00   556.0  311  \n",
      "4183  2.120000e-113   315.0  160  \n",
      "\n",
      "[4184 rows x 13 columns]\n"
     ]
    }
   ],
   "source": [
    "import pandas as pd\n",
    "query_results = pd.read_csv('MCCB_382_vs_Rossellomorea_vietnamemsis_RAR_WA_32.tab', sep=\"\\t\", header=None)\n",
    "print(query_results)"
   ]
  },
  {
   "cell_type": "code",
   "execution_count": 5,
   "id": "0fd7c591",
   "metadata": {},
   "outputs": [
    {
     "data": {
      "text/plain": [
       "4169"
      ]
     },
     "execution_count": 5,
     "metadata": {},
     "output_type": "execute_result"
    }
   ],
   "source": [
    "query_results= query_results.drop_duplicates(subset=[0, 1])\n",
    "len(query_results[1])"
   ]
  },
  {
   "cell_type": "code",
   "execution_count": 6,
   "id": "8f596d6f",
   "metadata": {},
   "outputs": [
    {
     "data": {
      "text/plain": [
       "0"
      ]
     },
     "execution_count": 6,
     "metadata": {},
     "output_type": "execute_result"
    }
   ],
   "source": [
    "# Run BLASTP\n",
    "subprocess.call(['makeblastdb', '-in', 'MCCB_382.faa', '-dbtype', 'prot', '-parse_seqids', '-out', 'MCCB_382'], stdout=subprocess.PIPE)\n"
   ]
  },
  {
   "cell_type": "code",
   "execution_count": 7,
   "id": "14012bed",
   "metadata": {},
   "outputs": [
    {
     "name": "stderr",
     "output_type": "stream",
     "text": [
      "Warning: [blastp] Examining 5 or more matches is recommended\n"
     ]
    },
    {
     "data": {
      "text/plain": [
       "0"
      ]
     },
     "execution_count": 7,
     "metadata": {},
     "output_type": "execute_result"
    }
   ],
   "source": [
    "subprocess.call([\"blastp\", \"-query\", 'Rossellomorea_vietnamemsis_RAR_WA_32.faa', \"-subject\", 'MCCB_382.faa', \"-out\", \"Rossellomorea_vietnamemsis_RAR_WA_32_vs_MCCB_382.tab\", \"-evalue\", \"1e-5\", \"-outfmt\", \"6 std qlen\",'-max_target_seqs', '1'])\n"
   ]
  },
  {
   "cell_type": "code",
   "execution_count": 9,
   "id": "01c66204",
   "metadata": {},
   "outputs": [],
   "source": [
    "subject_results = pd.read_csv('Rossellomorea_vietnamemsis_RAR_WA_32_vs_MCCB_382.tab', sep=\"\\t\", header=None)\n"
   ]
  },
  {
   "cell_type": "code",
   "execution_count": 10,
   "id": "de56cebe",
   "metadata": {},
   "outputs": [
    {
     "data": {
      "text/plain": [
       "4143"
      ]
     },
     "execution_count": 10,
     "metadata": {},
     "output_type": "execute_result"
    }
   ],
   "source": [
    "#Filter duplicates based on columns 0 and 1\n",
    "subject_results = subject_results.drop_duplicates(subset=[0, 1])\n",
    "len(subject_results[1])"
   ]
  },
  {
   "cell_type": "code",
   "execution_count": 11,
   "id": "7e70c274",
   "metadata": {},
   "outputs": [],
   "source": [
    "pattern = r\">(\\S+)\"\n",
    "\n",
    "# Processing MCCB_382.faa\n",
    "with open(\"MCCB_382.faa\", \"r\") as f:\n",
    "    query_data = f.read()\n",
    "\n",
    "query_matches = re.findall(pattern, query_data)\n",
    "query_counts = {}\n",
    "for query_id in set(query_matches):\n",
    "    query_count = query_matches.count(query_id)\n",
    "    query_counts[query_id] = query_count\n",
    "\n",
    "# Processing Rossellomorea_vietnamemsis_RAR_WA_32.faa\n",
    "with open(\"Rossellomorea_vietnamemsis_RAR_WA_32.faa\", \"r\") as f:\n",
    "    subject_data = f.read()\n",
    "\n",
    "subject_matches = re.findall(pattern, subject_data)\n",
    "subject_counts = {}\n",
    "for subject_id in set(subject_matches):\n",
    "    subject_count = subject_matches.count(subject_id)\n",
    "    subject_counts[subject_id] = subject_count"
   ]
  },
  {
   "cell_type": "code",
   "execution_count": 12,
   "id": "93c00730",
   "metadata": {},
   "outputs": [
    {
     "name": "stdout",
     "output_type": "stream",
     "text": [
      "4698\n"
     ]
    },
    {
     "data": {
      "text/plain": [
       "4517"
      ]
     },
     "metadata": {},
     "output_type": "display_data"
    }
   ],
   "source": [
    "print(len(query_counts))\n",
    "from IPython.display import display\n",
    "display(len(subject_counts))"
   ]
  },
  {
   "cell_type": "code",
   "execution_count": 13,
   "id": "63b66515",
   "metadata": {},
   "outputs": [],
   "source": [
    "# Create query and subject coverage columns in both dataframes\n",
    "query_results['qcov'] = query_results[3] / query_results[12]\n",
    "subject_results['qcov'] = subject_results[3] / subject_results[12]\n",
    "\n",
    "# Apply your custom filtering logic\n",
    "threshold_ident = 40\n",
    "threshold_qcov = 0.5\n",
    "\n",
    "# Filter based on conditions\n",
    "query_conserved_protein = query_results[(query_results[2] >= threshold_ident) & (query_results[12] >= threshold_qcov)]\n",
    "subject_conserved_protein = subject_results[(subject_results[2] >= threshold_ident) & (subject_results[12] >= threshold_qcov)]\n"
   ]
  },
  {
   "cell_type": "code",
   "execution_count": 16,
   "id": "db44bd15",
   "metadata": {},
   "outputs": [
    {
     "data": {
      "text/html": [
       "<div>\n",
       "<style scoped>\n",
       "    .dataframe tbody tr th:only-of-type {\n",
       "        vertical-align: middle;\n",
       "    }\n",
       "\n",
       "    .dataframe tbody tr th {\n",
       "        vertical-align: top;\n",
       "    }\n",
       "\n",
       "    .dataframe thead th {\n",
       "        text-align: right;\n",
       "    }\n",
       "</style>\n",
       "<table border=\"1\" class=\"dataframe\">\n",
       "  <thead>\n",
       "    <tr style=\"text-align: right;\">\n",
       "      <th></th>\n",
       "      <th>0</th>\n",
       "      <th>1</th>\n",
       "      <th>2</th>\n",
       "      <th>3</th>\n",
       "      <th>4</th>\n",
       "      <th>5</th>\n",
       "      <th>6</th>\n",
       "      <th>7</th>\n",
       "      <th>8</th>\n",
       "      <th>9</th>\n",
       "      <th>10</th>\n",
       "      <th>11</th>\n",
       "      <th>12</th>\n",
       "      <th>qcov</th>\n",
       "    </tr>\n",
       "  </thead>\n",
       "  <tbody>\n",
       "    <tr>\n",
       "      <th>0</th>\n",
       "      <td>KBBLJFAO_00001</td>\n",
       "      <td>CNFHIFKK_04266</td>\n",
       "      <td>96.732</td>\n",
       "      <td>153</td>\n",
       "      <td>5</td>\n",
       "      <td>0</td>\n",
       "      <td>1</td>\n",
       "      <td>153</td>\n",
       "      <td>1</td>\n",
       "      <td>153</td>\n",
       "      <td>7.300000e-108</td>\n",
       "      <td>301.0</td>\n",
       "      <td>153</td>\n",
       "      <td>1.0</td>\n",
       "    </tr>\n",
       "    <tr>\n",
       "      <th>1</th>\n",
       "      <td>KBBLJFAO_00002</td>\n",
       "      <td>CNFHIFKK_04265</td>\n",
       "      <td>92.857</td>\n",
       "      <td>182</td>\n",
       "      <td>13</td>\n",
       "      <td>0</td>\n",
       "      <td>1</td>\n",
       "      <td>182</td>\n",
       "      <td>1</td>\n",
       "      <td>182</td>\n",
       "      <td>6.550000e-127</td>\n",
       "      <td>351.0</td>\n",
       "      <td>182</td>\n",
       "      <td>1.0</td>\n",
       "    </tr>\n",
       "    <tr>\n",
       "      <th>2</th>\n",
       "      <td>KBBLJFAO_00003</td>\n",
       "      <td>CNFHIFKK_04264</td>\n",
       "      <td>96.389</td>\n",
       "      <td>360</td>\n",
       "      <td>13</td>\n",
       "      <td>0</td>\n",
       "      <td>1</td>\n",
       "      <td>360</td>\n",
       "      <td>1</td>\n",
       "      <td>360</td>\n",
       "      <td>0.000000e+00</td>\n",
       "      <td>708.0</td>\n",
       "      <td>360</td>\n",
       "      <td>1.0</td>\n",
       "    </tr>\n",
       "    <tr>\n",
       "      <th>3</th>\n",
       "      <td>KBBLJFAO_00004</td>\n",
       "      <td>CNFHIFKK_04263</td>\n",
       "      <td>99.632</td>\n",
       "      <td>815</td>\n",
       "      <td>3</td>\n",
       "      <td>0</td>\n",
       "      <td>1</td>\n",
       "      <td>815</td>\n",
       "      <td>1</td>\n",
       "      <td>815</td>\n",
       "      <td>0.000000e+00</td>\n",
       "      <td>1639.0</td>\n",
       "      <td>815</td>\n",
       "      <td>1.0</td>\n",
       "    </tr>\n",
       "    <tr>\n",
       "      <th>4</th>\n",
       "      <td>KBBLJFAO_00005</td>\n",
       "      <td>CNFHIFKK_04262</td>\n",
       "      <td>99.563</td>\n",
       "      <td>458</td>\n",
       "      <td>2</td>\n",
       "      <td>0</td>\n",
       "      <td>1</td>\n",
       "      <td>458</td>\n",
       "      <td>1</td>\n",
       "      <td>458</td>\n",
       "      <td>0.000000e+00</td>\n",
       "      <td>934.0</td>\n",
       "      <td>458</td>\n",
       "      <td>1.0</td>\n",
       "    </tr>\n",
       "  </tbody>\n",
       "</table>\n",
       "</div>"
      ],
      "text/plain": [
       "                0               1       2    3   4  5  6    7  8    9  \\\n",
       "0  KBBLJFAO_00001  CNFHIFKK_04266  96.732  153   5  0  1  153  1  153   \n",
       "1  KBBLJFAO_00002  CNFHIFKK_04265  92.857  182  13  0  1  182  1  182   \n",
       "2  KBBLJFAO_00003  CNFHIFKK_04264  96.389  360  13  0  1  360  1  360   \n",
       "3  KBBLJFAO_00004  CNFHIFKK_04263  99.632  815   3  0  1  815  1  815   \n",
       "4  KBBLJFAO_00005  CNFHIFKK_04262  99.563  458   2  0  1  458  1  458   \n",
       "\n",
       "              10      11   12  qcov  \n",
       "0  7.300000e-108   301.0  153   1.0  \n",
       "1  6.550000e-127   351.0  182   1.0  \n",
       "2   0.000000e+00   708.0  360   1.0  \n",
       "3   0.000000e+00  1639.0  815   1.0  \n",
       "4   0.000000e+00   934.0  458   1.0  "
      ]
     },
     "execution_count": 16,
     "metadata": {},
     "output_type": "execute_result"
    }
   ],
   "source": [
    "query_conserved_protein.head()\n"
   ]
  },
  {
   "cell_type": "code",
   "execution_count": 17,
   "id": "bfd8556d",
   "metadata": {},
   "outputs": [
    {
     "name": "stdout",
     "output_type": "stream",
     "text": [
      "3945\n",
      "3923\n"
     ]
    }
   ],
   "source": [
    "\n",
    "print(len(query_conserved_protein))\n",
    "\n",
    "print(len(subject_conserved_protein))"
   ]
  },
  {
   "cell_type": "code",
   "execution_count": 18,
   "id": "f479f7ab",
   "metadata": {},
   "outputs": [
    {
     "name": "stdout",
     "output_type": "stream",
     "text": [
      "3945\n",
      "3923\n"
     ]
    }
   ],
   "source": [
    "#Filter duplicates based on columns 0 and 1\n",
    "query_conserved_protein = query_conserved_protein.drop_duplicates(subset=[0, 1])\n",
    "subject_conserved_protein= subject_conserved_protein.drop_duplicates(subset=[0, 1])\n",
    "\n",
    "print(len(query_conserved_protein))\n",
    "\n",
    "print(len(subject_conserved_protein))\n"
   ]
  },
  {
   "cell_type": "code",
   "execution_count": 19,
   "id": "2722df23",
   "metadata": {},
   "outputs": [
    {
     "name": "stdout",
     "output_type": "stream",
     "text": [
      "83.44004340748779\n"
     ]
    }
   ],
   "source": [
    "# Calculate the final percentage\n",
    "total_queries = float(len(query_counts))+float(len(subject_counts))\n",
    "hit_sum = float(len(query_conserved_protein[1].unique())) + float(len(subject_conserved_protein[1].unique()))\n",
    "percentage = (hit_sum / total_queries) * 100\n",
    "\n",
    "print(percentage)\n"
   ]
  },
  {
   "cell_type": "code",
   "execution_count": 20,
   "id": "18dfa406",
   "metadata": {},
   "outputs": [
    {
     "name": "stdout",
     "output_type": "stream",
     "text": [
      "85.38252848616386\n"
     ]
    }
   ],
   "source": [
    "# Calculate the final percentage\n",
    "total_queries = len(query_counts)+len(subject_counts)\n",
    "hit_sum = len(query_conserved_protein[1]) + len(subject_conserved_protein[1])\n",
    "percentage = (hit_sum / total_queries) * 100\n",
    "\n",
    "print(percentage)"
   ]
  },
  {
   "cell_type": "code",
   "execution_count": null,
   "id": "6b552428",
   "metadata": {},
   "outputs": [],
   "source": []
  }
 ],
 "metadata": {
  "kernelspec": {
   "display_name": "Python 3",
   "language": "python",
   "name": "python3"
  },
  "language_info": {
   "codemirror_mode": {
    "name": "ipython",
    "version": 3
   },
   "file_extension": ".py",
   "mimetype": "text/x-python",
   "name": "python",
   "nbconvert_exporter": "python",
   "pygments_lexer": "ipython3",
   "version": "3.11.5"
  }
 },
 "nbformat": 4,
 "nbformat_minor": 5
}
