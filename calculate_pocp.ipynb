{
 "cells": [
  {
   "cell_type": "code",
   "execution_count": 1,
   "id": "6a8a2798",
   "metadata": {},
   "outputs": [],
   "source": [
    "#!/usr/bin/python3\n",
    "import re\n",
    "import subprocess\n",
    "import os\n",
    "os.getcwd()\n",
    "os.chdir(\"data\")\n",
    "#perform blastp of pair genome with each other to find orthologus gene or region"
   ]
  },
  {
   "cell_type": "code",
   "execution_count": null,
   "id": "ec561881",
   "metadata": {},
   "outputs": [],
   "source": [
    "#make blastdb for First query genome\n",
    "\n",
    "subprocess.call(['makeblastdb', '-in', 'Rossellomorea_vietnamemsis_RAR_WA_32.faa', '-dbtype', 'prot', '-parse_seqids', '-out', 'Rossellomorea_vietnamemsis_RAR_WA_32'], stdout=subprocess.PIPE)"
   ]
  },
  {
   "cell_type": "code",
   "execution_count": null,
   "id": "5d9086dc",
   "metadata": {},
   "outputs": [],
   "source": [
    "# Run BLASTP for query genome against subject genome\n",
    "subprocess.call([\"blastp\", \"-query\", 'MCCB_382.faa', \"-subject\", 'Rossellomorea_vietnamemsis_RAR_WA_32.faa', \"-out\", \"MCCB_382_vs_Rossellomorea_vietnamemsis_RAR_WA_32.tab\", \"-evalue\", \"1e-5\", \"-outfmt\", \"6 std qlen\",'-max_target_seqs', '1'], stdout=subprocess.PIPE)\n"
   ]
  },
  {
   "cell_type": "code",
   "execution_count": null,
   "id": "90dce0f7",
   "metadata": {},
   "outputs": [],
   "source": [
    "#similarly make blastdb for First query genome ()\n",
    "\n",
    "subprocess.call(['makeblastdb', '-in', 'MCCB_382.faa', '-dbtype', 'prot', '-parse_seqids', '-out', 'MCCB_382'], stdout=subprocess.PIPE)\n"
   ]
  },
  {
   "cell_type": "code",
   "execution_count": null,
   "id": "425ac67b",
   "metadata": {},
   "outputs": [],
   "source": [
    "# Run BLASTP for subject genome against query genome\n",
    "subprocess.call([\"blastp\", \"-query\", 'Rossellomorea_vietnamemsis_RAR_WA_32.faa', \"-subject\", 'MCCB_382.faa', \"-out\", \"Rossellomorea_vietnamemsis_RAR_WA_32_vs_MCCB_382.tab\", \"-evalue\", \"1e-5\", \"-outfmt\", \"6 std qlen\",'-max_target_seqs', '1'], stdout=subprocess.PIPE)\n"
   ]
  },
  {
   "cell_type": "code",
   "execution_count": 7,
   "id": "09c23460",
   "metadata": {},
   "outputs": [
    {
     "name": "stdout",
     "output_type": "stream",
     "text": [
      "4184\n"
     ]
    },
    {
     "data": {
      "text/html": [
       "<div>\n",
       "<style scoped>\n",
       "    .dataframe tbody tr th:only-of-type {\n",
       "        vertical-align: middle;\n",
       "    }\n",
       "\n",
       "    .dataframe tbody tr th {\n",
       "        vertical-align: top;\n",
       "    }\n",
       "\n",
       "    .dataframe thead th {\n",
       "        text-align: right;\n",
       "    }\n",
       "</style>\n",
       "<table border=\"1\" class=\"dataframe\">\n",
       "  <thead>\n",
       "    <tr style=\"text-align: right;\">\n",
       "      <th></th>\n",
       "      <th>0</th>\n",
       "      <th>1</th>\n",
       "      <th>2</th>\n",
       "      <th>3</th>\n",
       "      <th>4</th>\n",
       "      <th>5</th>\n",
       "      <th>6</th>\n",
       "      <th>7</th>\n",
       "      <th>8</th>\n",
       "      <th>9</th>\n",
       "      <th>10</th>\n",
       "      <th>11</th>\n",
       "      <th>12</th>\n",
       "    </tr>\n",
       "  </thead>\n",
       "  <tbody>\n",
       "    <tr>\n",
       "      <th>0</th>\n",
       "      <td>KBBLJFAO_00001</td>\n",
       "      <td>CNFHIFKK_04266</td>\n",
       "      <td>96.732</td>\n",
       "      <td>153</td>\n",
       "      <td>5</td>\n",
       "      <td>0</td>\n",
       "      <td>1</td>\n",
       "      <td>153</td>\n",
       "      <td>1</td>\n",
       "      <td>153</td>\n",
       "      <td>7.300000e-108</td>\n",
       "      <td>301.0</td>\n",
       "      <td>153</td>\n",
       "    </tr>\n",
       "    <tr>\n",
       "      <th>1</th>\n",
       "      <td>KBBLJFAO_00002</td>\n",
       "      <td>CNFHIFKK_04265</td>\n",
       "      <td>92.857</td>\n",
       "      <td>182</td>\n",
       "      <td>13</td>\n",
       "      <td>0</td>\n",
       "      <td>1</td>\n",
       "      <td>182</td>\n",
       "      <td>1</td>\n",
       "      <td>182</td>\n",
       "      <td>6.550000e-127</td>\n",
       "      <td>351.0</td>\n",
       "      <td>182</td>\n",
       "    </tr>\n",
       "    <tr>\n",
       "      <th>2</th>\n",
       "      <td>KBBLJFAO_00003</td>\n",
       "      <td>CNFHIFKK_04264</td>\n",
       "      <td>96.389</td>\n",
       "      <td>360</td>\n",
       "      <td>13</td>\n",
       "      <td>0</td>\n",
       "      <td>1</td>\n",
       "      <td>360</td>\n",
       "      <td>1</td>\n",
       "      <td>360</td>\n",
       "      <td>0.000000e+00</td>\n",
       "      <td>708.0</td>\n",
       "      <td>360</td>\n",
       "    </tr>\n",
       "    <tr>\n",
       "      <th>3</th>\n",
       "      <td>KBBLJFAO_00004</td>\n",
       "      <td>CNFHIFKK_04263</td>\n",
       "      <td>99.632</td>\n",
       "      <td>815</td>\n",
       "      <td>3</td>\n",
       "      <td>0</td>\n",
       "      <td>1</td>\n",
       "      <td>815</td>\n",
       "      <td>1</td>\n",
       "      <td>815</td>\n",
       "      <td>0.000000e+00</td>\n",
       "      <td>1639.0</td>\n",
       "      <td>815</td>\n",
       "    </tr>\n",
       "    <tr>\n",
       "      <th>4</th>\n",
       "      <td>KBBLJFAO_00005</td>\n",
       "      <td>CNFHIFKK_04262</td>\n",
       "      <td>99.563</td>\n",
       "      <td>458</td>\n",
       "      <td>2</td>\n",
       "      <td>0</td>\n",
       "      <td>1</td>\n",
       "      <td>458</td>\n",
       "      <td>1</td>\n",
       "      <td>458</td>\n",
       "      <td>0.000000e+00</td>\n",
       "      <td>934.0</td>\n",
       "      <td>458</td>\n",
       "    </tr>\n",
       "  </tbody>\n",
       "</table>\n",
       "</div>"
      ],
      "text/plain": [
       "               0               1       2    3   4   5   6    7   8    9   \\\n",
       "0  KBBLJFAO_00001  CNFHIFKK_04266  96.732  153   5   0   1  153   1  153   \n",
       "1  KBBLJFAO_00002  CNFHIFKK_04265  92.857  182  13   0   1  182   1  182   \n",
       "2  KBBLJFAO_00003  CNFHIFKK_04264  96.389  360  13   0   1  360   1  360   \n",
       "3  KBBLJFAO_00004  CNFHIFKK_04263  99.632  815   3   0   1  815   1  815   \n",
       "4  KBBLJFAO_00005  CNFHIFKK_04262  99.563  458   2   0   1  458   1  458   \n",
       "\n",
       "              10      11   12  \n",
       "0  7.300000e-108   301.0  153  \n",
       "1  6.550000e-127   351.0  182  \n",
       "2   0.000000e+00   708.0  360  \n",
       "3   0.000000e+00  1639.0  815  \n",
       "4   0.000000e+00   934.0  458  "
      ]
     },
     "execution_count": 7,
     "metadata": {},
     "output_type": "execute_result"
    }
   ],
   "source": [
    "# read the blast output file for both genome\n",
    "import pandas as pd\n",
    "query_results = pd.read_csv('MCCB_382_vs_Rossellomorea_vietnamemsis_RAR_WA_32.tab', sep=\"\\t\", header=None)\n",
    "print(len(query_results[1]))\n",
    "query_results.head()"
   ]
  },
  {
   "cell_type": "code",
   "execution_count": 8,
   "id": "dbe7a03a",
   "metadata": {},
   "outputs": [
    {
     "name": "stdout",
     "output_type": "stream",
     "text": [
      "4157\n",
      "                  0               1       2    3    4   5    6    7    8   \\\n",
      "0     CNFHIFKK_00001  KBBLJFAO_00279  99.317  439    3   0    1  439    1   \n",
      "1     CNFHIFKK_00002  KBBLJFAO_00280  99.010  101    1   0    1  101    1   \n",
      "2     CNFHIFKK_00003  KBBLJFAO_00281  97.764  313    7   0    1  313    1   \n",
      "3     CNFHIFKK_00005  KBBLJFAO_01127  69.716  634  183   4    1  632    1   \n",
      "4     CNFHIFKK_00006  KBBLJFAO_01128  84.259  648  100   1    1  646    1   \n",
      "...              ...             ...     ...  ...  ...  ..  ...  ...  ...   \n",
      "4152  CNFHIFKK_04656  KBBLJFAO_03387  29.720  286  184   3  311  579   90   \n",
      "4153  CNFHIFKK_04657  KBBLJFAO_03292  50.714  420  181   7    1  417    1   \n",
      "4154  CNFHIFKK_04659  KBBLJFAO_02984  24.595  309  207  10  102  391   92   \n",
      "4155  CNFHIFKK_04660  KBBLJFAO_04244  22.967  209  140   5  235  430  188   \n",
      "4156  CNFHIFKK_04661  KBBLJFAO_04242  60.500  400  152   3    2  397    3   \n",
      "\n",
      "       9              10      11   12  \n",
      "0     439   0.000000e+00   890.0  439  \n",
      "1     101   2.070000e-71   204.0  101  \n",
      "2     313   0.000000e+00   637.0  313  \n",
      "3     627   0.000000e+00   915.0  635  \n",
      "4     648   0.000000e+00  1150.0  646  \n",
      "...   ...            ...     ...  ...  \n",
      "4152  375   2.940000e-44   158.0  580  \n",
      "4153  397  7.680000e-135   389.0  419  \n",
      "4154  393   1.610000e-21    92.4  412  \n",
      "4155  388   1.170000e-07    50.4  432  \n",
      "4156  400  4.770000e-172   485.0  424  \n",
      "\n",
      "[4157 rows x 13 columns]\n"
     ]
    }
   ],
   "source": [
    "# read the blast output file \n",
    "subject_results = pd.read_csv('Rossellomorea_vietnamemsis_RAR_WA_32_vs_MCCB_382.tab', sep=\"\\t\", header=None)\n",
    "print(len(subject_results[1]))\n",
    "print(subject_results)"
   ]
  },
  {
   "cell_type": "code",
   "execution_count": 13,
   "id": "d7433ce6",
   "metadata": {},
   "outputs": [
    {
     "name": "stdout",
     "output_type": "stream",
     "text": [
      "4698\n"
     ]
    },
    {
     "data": {
      "text/plain": [
       "4517"
      ]
     },
     "metadata": {},
     "output_type": "display_data"
    }
   ],
   "source": [
    "#count the nymber of sequence in each fasta file \n",
    "pattern = r\">(\\S+)\"\n",
    "\n",
    "# Processing MCCB_382.faa\n",
    "with open(\"MCCB_382.faa\", \"r\") as f:\n",
    "    query_data = f.read()\n",
    "\n",
    "query_matches = re.findall(pattern, query_data)\n",
    "query_counts = {}\n",
    "for query_id in set(query_matches):\n",
    "    query_count = query_matches.count(query_id)\n",
    "    query_counts[query_id] = query_count\n",
    "print(len(query_counts))\n",
    "\n",
    "# Processing Rossellomorea_vietnamemsis_RAR_WA_32.faa\n",
    "with open(\"Rossellomorea_vietnamemsis_RAR_WA_32.faa\", \"r\") as f:\n",
    "    subject_data = f.read()\n",
    "\n",
    "subject_matches = re.findall(pattern, subject_data)\n",
    "subject_counts = {}\n",
    "for subject_id in set(subject_matches):\n",
    "    subject_count = subject_matches.count(subject_id)\n",
    "    subject_counts[subject_id] = subject_count\n",
    "\n",
    "#we can also use display function from IPython    \n",
    "from IPython.display import display\n",
    "display(len(subject_counts))"
   ]
  },
  {
   "cell_type": "code",
   "execution_count": 16,
   "id": "e5a006f0",
   "metadata": {},
   "outputs": [],
   "source": [
    "# Create query and subject coverage columns in both dataframes\n",
    "query_results['qcov'] = query_results[3] / query_results[12]\n",
    "subject_results['qcov'] = subject_results[3] / subject_results[12]\n",
    "\n",
    "# Apply your custom filtering logic\n",
    "threshold_ident = 40\n",
    "threshold_qcov = 0.5\n",
    "\n",
    "# Filter based on conditions using integer index\n",
    "query_conserved_protein = query_results[(query_results[2] >= threshold_ident) & (query_results['qcov'] >= threshold_qcov)]\n",
    "subject_conserved_protein = subject_results[(subject_results[2] >= threshold_ident) & (subject_results['qcov'] >= threshold_qcov)]\n",
    "\n",
    "#or by using index\n",
    "# Filter based on conditions using .iloc\n",
    "#query_conserved_protein = query_results[(query_results.iloc[:, 2] >= threshold_ident) & (query_results.iloc[:, 13] >= threshold_qcov)]\n",
    "#subject_conserved_protein = subject_results[(subject_results.iloc[:, 2] >= threshold_ident) & (subject_results.iloc[:, 13] >= threshold_qcov)]\n"
   ]
  },
  {
   "cell_type": "code",
   "execution_count": 17,
   "id": "0cabb44a",
   "metadata": {},
   "outputs": [],
   "source": [
    "# sometime we need to change as integer type \n",
    "#query_results[10] = query_results[10].astype(float)\n",
    "#subject_results[10] = subject_results[10].astype(float)"
   ]
  },
  {
   "cell_type": "code",
   "execution_count": 19,
   "id": "5a2840b5",
   "metadata": {},
   "outputs": [
    {
     "name": "stdout",
     "output_type": "stream",
     "text": [
      "3931\n",
      "3914\n"
     ]
    }
   ],
   "source": [
    "#Filter duplicates based on columns 0 and 1\n",
    "query_conserved_protein = query_conserved_protein.drop_duplicates(subset=[0, 1])\n",
    "subject_conserved_protein= subject_conserved_protein.drop_duplicates(subset=[0, 1])\n",
    "\n",
    "print(len(query_conserved_protein))\n",
    "\n",
    "print(len(subject_conserved_protein))\n"
   ]
  },
  {
   "cell_type": "code",
   "execution_count": 22,
   "id": "e10768df",
   "metadata": {},
   "outputs": [
    {
     "name": "stdout",
     "output_type": "stream",
     "text": [
      "85.13293543136191\n",
      "POCP Percentage: 85.13%\n"
     ]
    }
   ],
   "source": [
    "# Calculate the final percentage\n",
    "total_queries = len(query_counts)+len(subject_counts)\n",
    "hit_sum = len(query_conserved_protein[1]) + len(subject_conserved_protein[1])\n",
    "percentage = (hit_sum / total_queries) * 100\n",
    "\n",
    "print(percentage)\n",
    "print(f\"POCP Percentage: {percentage:.2f}%\")"
   ]
  },
  {
   "cell_type": "code",
   "execution_count": null,
   "id": "8ff26e84",
   "metadata": {},
   "outputs": [],
   "source": []
  }
 ],
 "metadata": {
  "kernelspec": {
   "display_name": "Python 3",
   "language": "python",
   "name": "python3"
  },
  "language_info": {
   "codemirror_mode": {
    "name": "ipython",
    "version": 3
   },
   "file_extension": ".py",
   "mimetype": "text/x-python",
   "name": "python",
   "nbconvert_exporter": "python",
   "pygments_lexer": "ipython3",
   "version": "3.11.5"
  }
 },
 "nbformat": 4,
 "nbformat_minor": 5
}
